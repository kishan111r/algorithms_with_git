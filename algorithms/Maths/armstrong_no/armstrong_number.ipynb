{
 "cells": [
  {
   "cell_type": "code",
   "execution_count": 1,
   "metadata": {},
   "outputs": [
    {
     "name": "stdout",
     "output_type": "stream",
     "text": [
      "The armstrong numbers are: \n",
      "371 "
     ]
    }
   ],
   "source": [
    "#Armstrong number aamong user enterd numbers\n",
    "from math import pow\n",
    "def enter(n,l):\n",
    "    for i in range (0,n):\n",
    "        l+=[int(input(\"Enter the number \"))]\n",
    "    return l\n",
    "#=============================================================================\n",
    "def digit(num):\n",
    "    check=0\n",
    "    while num>0:\n",
    "        num=num//10\n",
    "        check+=1\n",
    "    return check\n",
    "#---------------------------------------------------------------------------------------\n",
    "\n",
    "def armstrong(num):\n",
    "    trm=num\n",
    "    p=digit(num)\n",
    "    s=0\n",
    "    while num>0:\n",
    "        r=num%10\n",
    "        num//=10\n",
    "        s+=pow(r,p)\n",
    "    if s==trm:\n",
    "        return True\n",
    "    else:\n",
    "        return False\n",
    "#=====================================================================================\n",
    "def main():\n",
    "    flag=1\n",
    "    while flag==1:\n",
    "        n=int(input(\"Enter no of numbers u want to enter \"))\n",
    "        l=[]\n",
    "        ans=[]\n",
    "        l=enter(n,l)\n",
    "        for i in l:\n",
    "            check=armstrong(i)\n",
    "            if check==True:\n",
    "                ans+=[i]           \n",
    "        c=len(ans)\n",
    "        if c==0:\n",
    "            print( \"No armstrong number found\")\n",
    "        else:\n",
    "            print (\"The armstrong numbers are: \"),\n",
    "            for i in ans:\n",
    "                print (i,end=\" \")\n",
    "        flag=int(input(\"\\nPress 1 to continue else press anything: \"))\n",
    "#============================================================================================\n",
    "main()"
   ]
  },
  {
   "cell_type": "code",
   "execution_count": null,
   "metadata": {},
   "outputs": [],
   "source": []
  }
 ],
 "metadata": {
  "kernelspec": {
   "display_name": "Python 3",
   "language": "python",
   "name": "python3"
  },
  "language_info": {
   "codemirror_mode": {
    "name": "ipython",
    "version": 3
   },
   "file_extension": ".py",
   "mimetype": "text/x-python",
   "name": "python",
   "nbconvert_exporter": "python",
   "pygments_lexer": "ipython3",
   "version": "3.6.5"
  }
 },
 "nbformat": 4,
 "nbformat_minor": 2
}
